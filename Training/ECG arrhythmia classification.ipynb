{
 "cells": [
  {
   "cell_type": "markdown",
   "id": "kOll_fno3Yat",
   "metadata": {
    "id": "kOll_fno3Yat"
   },
   "source": [
    "# Image Preprocessing"
   ]
  },
  {
   "cell_type": "markdown",
   "id": "tW59gsm_2EJa",
   "metadata": {
    "id": "tW59gsm_2EJa"
   },
   "source": [
    "Importing Image Data Generator Library"
   ]
  },
  {
   "cell_type": "code",
   "execution_count": 1,
   "id": "Tu50A-mJ2PrL",
   "metadata": {
    "executionInfo": {
     "elapsed": 3272,
     "status": "ok",
     "timestamp": 1642677032049,
     "user": {
      "displayName": "ANSHUMAN RAINA 19BAI10151",
      "photoUrl": "https://lh3.googleusercontent.com/a-/AOh14GgiGg7Er9kXU2F9L64XvYv5Bv5Oe_Hb0IgP84m4=s64",
      "userId": "02069950647084314499"
     },
     "user_tz": -330
    },
    "id": "Tu50A-mJ2PrL"
   },
   "outputs": [
    {
     "name": "stdout",
     "output_type": "stream",
     "text": [
      "WARNING:tensorflow:From C:\\Users\\Hp\\AppData\\Roaming\\Python\\Python311\\site-packages\\keras\\src\\losses.py:2976: The name tf.losses.sparse_softmax_cross_entropy is deprecated. Please use tf.compat.v1.losses.sparse_softmax_cross_entropy instead.\n",
      "\n"
     ]
    }
   ],
   "source": [
    "from keras.preprocessing.image import ImageDataGenerator"
   ]
  },
  {
   "cell_type": "markdown",
   "id": "PsfFl-if2TOy",
   "metadata": {
    "id": "PsfFl-if2TOy"
   },
   "source": [
    "Configure Image datagenerator class"
   ]
  },
  {
   "cell_type": "code",
   "execution_count": 2,
   "id": "kxgV5UjG2dtC",
   "metadata": {
    "executionInfo": {
     "elapsed": 399,
     "status": "ok",
     "timestamp": 1642677034091,
     "user": {
      "displayName": "ANSHUMAN RAINA 19BAI10151",
      "photoUrl": "https://lh3.googleusercontent.com/a-/AOh14GgiGg7Er9kXU2F9L64XvYv5Bv5Oe_Hb0IgP84m4=s64",
      "userId": "02069950647084314499"
     },
     "user_tz": -330
    },
    "id": "kxgV5UjG2dtC"
   },
   "outputs": [],
   "source": [
    "#setting parameter for image data agumentationto the training data\n",
    "train_datagen=ImageDataGenerator(rescale=1./225,shear_range=0.2,zoom_range=0.2,horizontal_flip=True)\n",
    "#image data agumenatation to test dataset\n",
    "test_datagen=ImageDataGenerator(rescale=1./225)"
   ]
  },
  {
   "cell_type": "markdown",
   "id": "TB3nRvlf20DG",
   "metadata": {
    "id": "TB3nRvlf20DG"
   },
   "source": [
    "Applying ImageDataGenerator Functionality to train and test Dataset"
   ]
  },
  {
   "cell_type": "code",
   "execution_count": 5,
   "id": "e156bd18",
   "metadata": {
    "colab": {
     "base_uri": "https://localhost:8080/"
    },
    "executionInfo": {
     "elapsed": 45836,
     "status": "ok",
     "timestamp": 1642677082017,
     "user": {
      "displayName": "ANSHUMAN RAINA 19BAI10151",
      "photoUrl": "https://lh3.googleusercontent.com/a-/AOh14GgiGg7Er9kXU2F9L64XvYv5Bv5Oe_Hb0IgP84m4=s64",
      "userId": "02069950647084314499"
     },
     "user_tz": -330
    },
    "id": "e156bd18",
    "outputId": "a09a10cf-0455-408f-83a6-b96c7239f9fb"
   },
   "outputs": [
    {
     "name": "stdout",
     "output_type": "stream",
     "text": [
      "Found 15341 images belonging to 6 classes.\n",
      "Found 6825 images belonging to 6 classes.\n"
     ]
    }
   ],
   "source": [
    "#performing data agumentation to train the dataset\n",
    "x_train=train_datagen.flow_from_directory(directory=r'C:\\Users\\Hp\\Downloads\\ECG-Image-Based-Heartbeat-Classification-for-Arrhythmia-Detection-main\\ECG-Image-Based-Heartbeat-Classification-for-Arrhythmia-Detection-main\\Flask\\data\\train',target_size=(64,64),batch_size=32,class_mode='categorical')\n",
    "#performing agumentation to test the dataset\n",
    "x_test=test_datagen.flow_from_directory(directory=r'C:\\Users\\Hp\\Downloads\\ECG-Image-Based-Heartbeat-Classification-for-Arrhythmia-Detection-main\\ECG-Image-Based-Heartbeat-Classification-for-Arrhythmia-Detection-main\\Flask\\data\\test',target_size=(64,64),batch_size=32,class_mode='categorical')\n"
   ]
  },
  {
   "cell_type": "markdown",
   "id": "LnpBXjMy3D46",
   "metadata": {
    "id": "LnpBXjMy3D46"
   },
   "source": [
    "# Model Building"
   ]
  },
  {
   "cell_type": "markdown",
   "id": "ysK7BFgN3RD0",
   "metadata": {
    "id": "ysK7BFgN3RD0"
   },
   "source": [
    "Importing Libraries"
   ]
  },
  {
   "cell_type": "code",
   "execution_count": 6,
   "id": "ols5iJTh1q-P",
   "metadata": {
    "executionInfo": {
     "elapsed": 417,
     "status": "ok",
     "timestamp": 1642677084896,
     "user": {
      "displayName": "ANSHUMAN RAINA 19BAI10151",
      "photoUrl": "https://lh3.googleusercontent.com/a-/AOh14GgiGg7Er9kXU2F9L64XvYv5Bv5Oe_Hb0IgP84m4=s64",
      "userId": "02069950647084314499"
     },
     "user_tz": -330
    },
    "id": "ols5iJTh1q-P"
   },
   "outputs": [],
   "source": [
    "\n",
    "import numpy as np\n",
    "import tensorflow\n",
    "from tensorflow.keras.models import Sequential\n",
    "from tensorflow.keras import layers\n",
    "\n",
    "from tensorflow.keras.layers import Dense,Flatten\n",
    "\n",
    "from tensorflow.keras.layers import Conv2D,MaxPooling2D\n",
    "import keras"
   ]
  },
  {
   "cell_type": "code",
   "execution_count": 7,
   "id": "D47DOHPM8-uv",
   "metadata": {
    "executionInfo": {
     "elapsed": 414,
     "status": "ok",
     "timestamp": 1642677088118,
     "user": {
      "displayName": "ANSHUMAN RAINA 19BAI10151",
      "photoUrl": "https://lh3.googleusercontent.com/a-/AOh14GgiGg7Er9kXU2F9L64XvYv5Bv5Oe_Hb0IgP84m4=s64",
      "userId": "02069950647084314499"
     },
     "user_tz": -330
    },
    "id": "D47DOHPM8-uv"
   },
   "outputs": [
    {
     "name": "stdout",
     "output_type": "stream",
     "text": [
      "WARNING:tensorflow:From C:\\Users\\Hp\\AppData\\Roaming\\Python\\Python311\\site-packages\\keras\\src\\backend.py:873: The name tf.get_default_graph is deprecated. Please use tf.compat.v1.get_default_graph instead.\n",
      "\n"
     ]
    }
   ],
   "source": [
    "model= keras.Sequential()"
   ]
  },
  {
   "cell_type": "markdown",
   "id": "uwK84q-X3vHc",
   "metadata": {
    "id": "uwK84q-X3vHc"
   },
   "source": [
    "Adding CNN Layers"
   ]
  },
  {
   "cell_type": "code",
   "execution_count": 8,
   "id": "9RljNEo531dG",
   "metadata": {
    "executionInfo": {
     "elapsed": 486,
     "status": "ok",
     "timestamp": 1642677090849,
     "user": {
      "displayName": "ANSHUMAN RAINA 19BAI10151",
      "photoUrl": "https://lh3.googleusercontent.com/a-/AOh14GgiGg7Er9kXU2F9L64XvYv5Bv5Oe_Hb0IgP84m4=s64",
      "userId": "02069950647084314499"
     },
     "user_tz": -330
    },
    "id": "9RljNEo531dG"
   },
   "outputs": [
    {
     "name": "stdout",
     "output_type": "stream",
     "text": [
      "WARNING:tensorflow:From C:\\Users\\Hp\\AppData\\Roaming\\Python\\Python311\\site-packages\\keras\\src\\layers\\pooling\\max_pooling2d.py:161: The name tf.nn.max_pool is deprecated. Please use tf.nn.max_pool2d instead.\n",
      "\n"
     ]
    }
   ],
   "source": [
    "#adding model layer\n",
    "model.add(Conv2D(32,(3,3),input_shape=(64,64,3),activation='relu'))\n",
    "model.add(MaxPooling2D(pool_size=(2,2)))\n",
    "model.add(Conv2D(32,(3,3),activation='relu'))\n",
    "model.add(MaxPooling2D(pool_size=(2,2)))\n",
    "model.add(Flatten())"
   ]
  },
  {
   "cell_type": "markdown",
   "id": "8DbbNiA5397o",
   "metadata": {
    "id": "8DbbNiA5397o"
   },
   "source": [
    "Adding Dense Layers"
   ]
  },
  {
   "cell_type": "code",
   "execution_count": 9,
   "id": "1kYr2efF4AwR",
   "metadata": {
    "colab": {
     "base_uri": "https://localhost:8080/"
    },
    "executionInfo": {
     "elapsed": 654,
     "status": "ok",
     "timestamp": 1642677094849,
     "user": {
      "displayName": "ANSHUMAN RAINA 19BAI10151",
      "photoUrl": "https://lh3.googleusercontent.com/a-/AOh14GgiGg7Er9kXU2F9L64XvYv5Bv5Oe_Hb0IgP84m4=s64",
      "userId": "02069950647084314499"
     },
     "user_tz": -330
    },
    "id": "1kYr2efF4AwR",
    "outputId": "ce7bef72-2a14-4a16-fe2e-ca2719d9c7c2"
   },
   "outputs": [
    {
     "name": "stdout",
     "output_type": "stream",
     "text": [
      "Model: \"sequential\"\n",
      "_________________________________________________________________\n",
      " Layer (type)                Output Shape              Param #   \n",
      "=================================================================\n",
      " conv2d (Conv2D)             (None, 62, 62, 32)        896       \n",
      "                                                                 \n",
      " max_pooling2d (MaxPooling2  (None, 31, 31, 32)        0         \n",
      " D)                                                              \n",
      "                                                                 \n",
      " conv2d_1 (Conv2D)           (None, 29, 29, 32)        9248      \n",
      "                                                                 \n",
      " max_pooling2d_1 (MaxPoolin  (None, 14, 14, 32)        0         \n",
      " g2D)                                                            \n",
      "                                                                 \n",
      " flatten (Flatten)           (None, 6272)              0         \n",
      "                                                                 \n",
      " dense (Dense)               (None, 32)                200736    \n"
     ]
    },
    {
     "name": "stdout",
     "output_type": "stream",
     "text": [
      "                                                                 \n",
      " dense_1 (Dense)             (None, 6)                 198       \n",
      "                                                                 \n",
      "=================================================================\n",
      "Total params: 211078 (824.52 KB)\n",
      "Trainable params: 211078 (824.52 KB)\n",
      "Non-trainable params: 0 (0.00 Byte)\n",
      "_________________________________________________________________\n"
     ]
    }
   ],
   "source": [
    "model.add(Dense(32))\n",
    "model.add(Dense(6,activation='softmax'))\n",
    "\n",
    "model.summary()"
   ]
  },
  {
   "cell_type": "markdown",
   "id": "m3mTMNe1_2LZ",
   "metadata": {
    "id": "m3mTMNe1_2LZ"
   },
   "source": [
    "Configuring the learning process"
   ]
  },
  {
   "cell_type": "code",
   "execution_count": 10,
   "id": "cU49pXBJ_-mw",
   "metadata": {
    "executionInfo": {
     "elapsed": 412,
     "status": "ok",
     "timestamp": 1642677098513,
     "user": {
      "displayName": "ANSHUMAN RAINA 19BAI10151",
      "photoUrl": "https://lh3.googleusercontent.com/a-/AOh14GgiGg7Er9kXU2F9L64XvYv5Bv5Oe_Hb0IgP84m4=s64",
      "userId": "02069950647084314499"
     },
     "user_tz": -330
    },
    "id": "cU49pXBJ_-mw"
   },
   "outputs": [
    {
     "name": "stdout",
     "output_type": "stream",
     "text": [
      "WARNING:tensorflow:From C:\\Users\\Hp\\AppData\\Roaming\\Python\\Python311\\site-packages\\keras\\src\\optimizers\\__init__.py:309: The name tf.train.Optimizer is deprecated. Please use tf.compat.v1.train.Optimizer instead.\n",
      "\n"
     ]
    }
   ],
   "source": [
    "#model.compile(optimizer='adam',loss='categorical_crossentropy',metrics=['accuracy'])\n",
    "from keras.preprocessing.image import ImageDataGenerator\n",
    "\n",
    "datagen = ImageDataGenerator(\n",
    "        rotation_range=15,\n",
    "        width_shift_range=0.1,\n",
    "        height_shift_range=0.1,\n",
    "        shear_range=0.1,\n",
    "        zoom_range=0.1,\n",
    "        horizontal_flip=True,\n",
    "        fill_mode='nearest')\n",
    "\n",
    "model.compile(optimizer='adam',loss='categorical_crossentropy',metrics=['accuracy'])\n"
   ]
  },
  {
   "cell_type": "markdown",
   "id": "ODFz0IiUACTj",
   "metadata": {
    "id": "ODFz0IiUACTj"
   },
   "source": [
    "Train the Model"
   ]
  },
  {
   "cell_type": "code",
   "execution_count": 13,
   "id": "b-SfMl_ZAHPM",
   "metadata": {
    "colab": {
     "base_uri": "https://localhost:8080/"
    },
    "executionInfo": {
     "elapsed": 6220650,
     "status": "ok",
     "timestamp": 1642683322564,
     "user": {
      "displayName": "ANSHUMAN RAINA 19BAI10151",
      "photoUrl": "https://lh3.googleusercontent.com/a-/AOh14GgiGg7Er9kXU2F9L64XvYv5Bv5Oe_Hb0IgP84m4=s64",
      "userId": "02069950647084314499"
     },
     "user_tz": -330
    },
    "id": "b-SfMl_ZAHPM",
    "outputId": "d2cc46b9-a584-44bd-df54-9702a246a0c4"
   },
   "outputs": [
    {
     "name": "stderr",
     "output_type": "stream",
     "text": [
      "C:\\Users\\Hp\\AppData\\Local\\Temp\\ipykernel_11628\\137175058.py:1: UserWarning: `Model.fit_generator` is deprecated and will be removed in a future version. Please use `Model.fit`, which supports generators.\n",
      "  model.fit_generator(generator=x_train,steps_per_epoch = len(x_train), epochs=10, validation_data=x_test,validation_steps = len(x_test))\n"
     ]
    },
    {
     "name": "stdout",
     "output_type": "stream",
     "text": [
      "Epoch 1/10\n",
      "WARNING:tensorflow:From C:\\Users\\Hp\\AppData\\Roaming\\Python\\Python311\\site-packages\\keras\\src\\utils\\tf_utils.py:492: The name tf.ragged.RaggedTensorValue is deprecated. Please use tf.compat.v1.ragged.RaggedTensorValue instead.\n",
      "\n",
      "WARNING:tensorflow:From C:\\Users\\Hp\\AppData\\Roaming\\Python\\Python311\\site-packages\\keras\\src\\engine\\base_layer_utils.py:384: The name tf.executing_eagerly_outside_functions is deprecated. Please use tf.compat.v1.executing_eagerly_outside_functions instead.\n",
      "\n",
      "480/480 [==============================] - 93s 189ms/step - loss: 0.6856 - accuracy: 0.7704 - val_loss: 0.4444 - val_accuracy: 0.8580\n",
      "Epoch 2/10\n",
      "480/480 [==============================] - 68s 142ms/step - loss: 0.2929 - accuracy: 0.9138 - val_loss: 0.4676 - val_accuracy: 0.8637\n",
      "Epoch 3/10\n",
      "480/480 [==============================] - 68s 142ms/step - loss: 0.2571 - accuracy: 0.9237 - val_loss: 0.3613 - val_accuracy: 0.8828\n",
      "Epoch 4/10\n",
      "480/480 [==============================] - 68s 141ms/step - loss: 0.2267 - accuracy: 0.9369 - val_loss: 0.3913 - val_accuracy: 0.8832\n",
      "Epoch 5/10\n",
      "480/480 [==============================] - 65s 136ms/step - loss: 0.2006 - accuracy: 0.9388 - val_loss: 0.2984 - val_accuracy: 0.9093\n",
      "Epoch 6/10\n",
      "480/480 [==============================] - 65s 136ms/step - loss: 0.1851 - accuracy: 0.9445 - val_loss: 0.2731 - val_accuracy: 0.9156\n",
      "Epoch 7/10\n",
      "480/480 [==============================] - 69s 144ms/step - loss: 0.1711 - accuracy: 0.9486 - val_loss: 0.2634 - val_accuracy: 0.9144\n",
      "Epoch 8/10\n",
      "480/480 [==============================] - 68s 142ms/step - loss: 0.1632 - accuracy: 0.9490 - val_loss: 0.3930 - val_accuracy: 0.9134\n",
      "Epoch 9/10\n",
      "480/480 [==============================] - 67s 139ms/step - loss: 0.1513 - accuracy: 0.9561 - val_loss: 0.3418 - val_accuracy: 0.8980\n",
      "Epoch 10/10\n",
      "480/480 [==============================] - 69s 143ms/step - loss: 0.1428 - accuracy: 0.9576 - val_loss: 0.2597 - val_accuracy: 0.9172\n"
     ]
    },
    {
     "data": {
      "text/plain": [
       "<keras.src.callbacks.History at 0x24e42aa7990>"
      ]
     },
     "execution_count": 13,
     "metadata": {},
     "output_type": "execute_result"
    }
   ],
   "source": [
    "#model.fit_generator(generator=x_train,steps_per_epoch = len(x_train), epochs=10, validation_data=x_test,validation_steps = len(x_test))\n"
   ]
  },
  {
   "cell_type": "code",
   "execution_count": 23,
   "id": "e8d30150",
   "metadata": {},
   "outputs": [
    {
     "name": "stderr",
     "output_type": "stream",
     "text": [
      "C:\\Users\\Hp\\AppData\\Local\\Temp\\ipykernel_11628\\1092393573.py:3: UserWarning: `Model.fit_generator` is deprecated and will be removed in a future version. Please use `Model.fit`, which supports generators.\n",
      "  history = model.fit_generator(\n"
     ]
    },
    {
     "name": "stdout",
     "output_type": "stream",
     "text": [
      "Epoch 1/10\n",
      "480/480 [==============================] - 91s 185ms/step - loss: 0.9892 - accuracy: 0.6527 - val_loss: 0.5886 - val_accuracy: 0.8032\n",
      "Epoch 2/10\n",
      "480/480 [==============================] - 89s 186ms/step - loss: 0.2449 - accuracy: 0.9239 - val_loss: 0.5679 - val_accuracy: 0.8642\n",
      "Epoch 3/10\n",
      "480/480 [==============================] - 93s 194ms/step - loss: 0.1503 - accuracy: 0.9527 - val_loss: 0.4381 - val_accuracy: 0.8740\n",
      "Epoch 4/10\n",
      "480/480 [==============================] - 91s 190ms/step - loss: 0.1159 - accuracy: 0.9638 - val_loss: 0.6257 - val_accuracy: 0.8661\n",
      "Epoch 5/10\n",
      "480/480 [==============================] - 92s 191ms/step - loss: 0.0974 - accuracy: 0.9687 - val_loss: 0.3564 - val_accuracy: 0.8894\n",
      "Epoch 6/10\n",
      "480/480 [==============================] - 90s 188ms/step - loss: 0.0840 - accuracy: 0.9726 - val_loss: 0.5857 - val_accuracy: 0.8695\n",
      "Epoch 7/10\n",
      "480/480 [==============================] - 92s 192ms/step - loss: 0.0716 - accuracy: 0.9766 - val_loss: 0.5925 - val_accuracy: 0.8670\n",
      "Epoch 8/10\n",
      "480/480 [==============================] - 90s 188ms/step - loss: 0.0690 - accuracy: 0.9780 - val_loss: 0.6846 - val_accuracy: 0.8841\n",
      "Epoch 9/10\n",
      "480/480 [==============================] - 90s 188ms/step - loss: 0.0565 - accuracy: 0.9805 - val_loss: 0.6851 - val_accuracy: 0.8715\n",
      "Epoch 10/10\n",
      "480/480 [==============================] - 91s 189ms/step - loss: 0.0535 - accuracy: 0.9831 - val_loss: 0.4973 - val_accuracy: 0.8683\n"
     ]
    },
    {
     "data": {
      "image/png": "[encoded data removed]",
      "text/plain": [
       "<Figure size 640x480 with 1 Axes>"
      ]
     },
     "metadata": {},
     "output_type": "display_data"
    },
    {
     "data": {
      "image/png": "[encoded data removed]",
      "text/plain": [
       "<Figure size 640x480 with 1 Axes>"
      ]
     },
     "metadata": {},
     "output_type": "display_data"
    }
   ],
   "source": [
    "import matplotlib.pyplot as plt\n",
    "\n",
    "history = model.fit_generator(\n",
    "    generator=x_train,\n",
    "    steps_per_epoch=len(x_train),\n",
    "    epochs=10,\n",
    "    validation_data=x_test,\n",
    "    validation_steps=len(x_test)\n",
    ")\n",
    "\n",
    "# Plot training & validation accuracy values\n",
    "plt.plot(history.history['accuracy'])\n",
    "plt.plot(history.history['val_accuracy'])\n",
    "plt.title('Model accuracy')\n",
    "plt.ylabel('Accuracy')\n",
    "plt.xlabel('Epoch')\n",
    "plt.legend(['Train', 'Validation'], loc='upper left')\n",
    "plt.show()\n",
    "\n",
    "# Plot training & validation loss values\n",
    "plt.plot(history.history['loss'])\n",
    "plt.plot(history.history['val_loss'])\n",
    "plt.title('Model loss')\n",
    "plt.ylabel('Loss')\n",
    "plt.xlabel('Epoch')\n",
    "plt.legend(['Train', 'Validation'], loc='upper left')\n",
    "plt.show()\n"
   ]
  },
  {
   "cell_type": "markdown",
   "id": "ip8Eu06pCQac",
   "metadata": {
    "id": "ip8Eu06pCQac"
   },
   "source": [
    "Saving the model"
   ]
  },
  {
   "cell_type": "code",
   "execution_count": 27,
   "id": "cMXHWjLQCYsr",
   "metadata": {
    "executionInfo": {
     "elapsed": 430,
     "status": "ok",
     "timestamp": 1642683357696,
     "user": {
      "displayName": "ANSHUMAN RAINA 19BAI10151",
      "photoUrl": "https://lh3.googleusercontent.com/a-/AOh14GgiGg7Er9kXU2F9L64XvYv5Bv5Oe_Hb0IgP84m4=s64",
      "userId": "02069950647084314499"
     },
     "user_tz": -330
    },
    "id": "cMXHWjLQCYsr"
   },
   "outputs": [],
   "source": [
    "model.save('ECG.h5')"
   ]
  },
  {
   "cell_type": "markdown",
   "id": "ZmCTw7e5CfhN",
   "metadata": {
    "id": "ZmCTw7e5CfhN"
   },
   "source": [
    "Test the Model"
   ]
  },
  {
   "cell_type": "code",
   "execution_count": 28,
   "id": "7b69ff7b",
   "metadata": {
    "colab": {
     "base_uri": "https://localhost:8080/"
    },
    "executionInfo": {
     "elapsed": 444,
     "status": "ok",
     "timestamp": 1642683362784,
     "user": {
      "displayName": "ANSHUMAN RAINA 19BAI10151",
      "photoUrl": "https://lh3.googleusercontent.com/a-/AOh14GgiGg7Er9kXU2F9L64XvYv5Bv5Oe_Hb0IgP84m4=s64",
      "userId": "02069950647084314499"
     },
     "user_tz": -330
    },
    "id": "7b69ff7b",
    "outputId": "a50ba1bc-4d03-46c9-d580-7300c57d6901"
   },
   "outputs": [
    {
     "name": "stdout",
     "output_type": "stream",
     "text": [
      "1/1 [==============================] - 0s 285ms/step\n"
     ]
    },
    {
     "data": {
      "text/plain": [
       "2"
      ]
     },
     "execution_count": 28,
     "metadata": {},
     "output_type": "execute_result"
    }
   ],
   "source": [
    "from tensorflow.keras.models import load_model\n",
    "from keras.preprocessing import image\n",
    "model=load_model(r'C:\\Users\\Hp\\Downloads\\ECG-Image-Based-Heartbeat-Classification-for-Arrhythmia-Detection-main\\ECG-Image-Based-Heartbeat-Classification-for-Arrhythmia-Detection-main\\Training\\ECG.h5')\n",
    "img=image.load_img(r\"C:\\Users\\Hp\\Downloads\\ECG-Image-Based-Heartbeat-Classification-for-Arrhythmia-Detection-main\\ECG-Image-Based-Heartbeat-Classification-for-Arrhythmia-Detection-main\\Flask\\uploads\\PAC.png\",target_size=(64,64))\n",
    "x=image.img_to_array(img)\n",
    "x=np.expand_dims(x,axis=0)\n",
    "pred = model.predict(x)\n",
    "y_pred=np.argmax(pred)\n",
    "y_pred\n"
   ]
  },
  {
   "cell_type": "code",
   "execution_count": 29,
   "id": "4OEO0jcfqJiz",
   "metadata": {
    "colab": {
     "base_uri": "https://localhost:8080/",
     "height": 35
    },
    "executionInfo": {
     "elapsed": 636,
     "status": "ok",
     "timestamp": 1642683405004,
     "user": {
      "displayName": "ANSHUMAN RAINA 19BAI10151",
      "photoUrl": "https://lh3.googleusercontent.com/a-/AOh14GgiGg7Er9kXU2F9L64XvYv5Bv5Oe_Hb0IgP84m4=s64",
      "userId": "02069950647084314499"
     },
     "user_tz": -330
    },
    "id": "4OEO0jcfqJiz",
    "outputId": "0cb71e55-ce7c-45c7-e96a-bc7eb0e80a88"
   },
   "outputs": [
    {
     "data": {
      "text/plain": [
       "'Premature Atrial Contraction'"
      ]
     },
     "execution_count": 29,
     "metadata": {},
     "output_type": "execute_result"
    }
   ],
   "source": [
    "index=['left Bundle Branch block','Normal','Premature Atrial Contraction','Premature Ventricular Contraction','Right Bundle Branch Block','Ventricular Fibrillation']\n",
    "result = str(index[y_pred])\n",
    "result"
   ]
  },
  {
   "cell_type": "code",
   "execution_count": null,
   "id": "c9acb949",
   "metadata": {},
   "outputs": [],
   "source": []
  }
 ],
 "metadata": {
  "colab": {
   "collapsed_sections": [],
   "name": "ECG arrhythmia classification.ipynb",
   "provenance": []
  },
  "kernelspec": {
   "display_name": "Python 3 (ipykernel)",
   "language": "python",
   "name": "python3"
  },
  "language_info": {
   "codemirror_mode": {
    "name": "ipython",
    "version": 3
   },
   "file_extension": ".py",
   "mimetype": "text/x-python",
   "name": "python",
   "nbconvert_exporter": "python",
   "pygments_lexer": "ipython3",
   "version": "3.11.0"
  }
 },
 "nbformat": 4,
 "nbformat_minor": 5
}
